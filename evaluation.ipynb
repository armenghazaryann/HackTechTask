{
 "cells": [
  {
   "metadata": {},
   "cell_type": "markdown",
   "source": "## General",
   "id": "d8f692acf3204bed"
  },
  {
   "metadata": {},
   "cell_type": "markdown",
   "source": "### __A better solution for this problem could be using LangSmith's evaluation tools, but without having the bot itself and without knowing the model through which these responses were generated, it was not possible to do this. The optimal solution in this case was to leave the evaluation to another language model and give instructions on how the evaluation should be done.__",
   "id": "ca3e23196d331c34"
  },
  {
   "metadata": {},
   "cell_type": "markdown",
   "source": "## Imports",
   "id": "8c86309f77fe84db"
  },
  {
   "cell_type": "code",
   "id": "initial_id",
   "metadata": {
    "collapsed": true,
    "ExecuteTime": {
     "end_time": "2024-07-25T06:48:13.494489Z",
     "start_time": "2024-07-25T06:48:12.896689Z"
    }
   },
   "source": [
    "import pandas as pd\n",
    "import openai\n",
    "from dotenv import load_dotenv\n",
    "load_dotenv()"
   ],
   "outputs": [
    {
     "data": {
      "text/plain": [
       "True"
      ]
     },
     "execution_count": 1,
     "metadata": {},
     "output_type": "execute_result"
    }
   ],
   "execution_count": 1
  },
  {
   "metadata": {},
   "cell_type": "markdown",
   "source": "## Main functionality",
   "id": "9159e15590f930cc"
  },
  {
   "metadata": {
    "ExecuteTime": {
     "end_time": "2024-07-25T06:49:43.647655Z",
     "start_time": "2024-07-25T06:49:43.639515Z"
    }
   },
   "cell_type": "code",
   "source": [
    "class EvaluationArtifact:\n",
    "    _BOT_BEHAVIOUR_DESCRIPTION = \"\"\"\n",
    "    Evaluate the following Conversation, by considering that they have not any prior conversation.\n",
    "     \n",
    "    AI Bot is aiming to book them by suggesting available intro classes in groups of three and answering their questions. \n",
    "    The bot's final goal is a successful booking. In the case of a positive reply, the bot proceeds to book the lead and sends a success message to the lead. \n",
    "    The bot has specific instructions that should be followed. \n",
    "    The bot should respond with the message \"One of our representatives will be in touch with you shortly to assist you further\" whenever \n",
    "    any of the following is detected during a conversation:\n",
    "        ● The customer wants to bring someone else (e.g., a friend, daughter, etc.) as a guest (so this is opportunity for having more customers). \n",
    "        ● The customer asks questions about gift cards, payments, discounts, or costs, or even just have interest about any theme connected with finance.\n",
    "        ● The customer wants to use 1Pass (onepass, One Pass) credits.\n",
    "    The conversation is relatively good if the bot detects one of these patterns and returns only \"One of our representatives will be in touch with you shortly to assist you further\" string exactly, so can have higher score.\n",
    "    The conversation is relatively bad if the user's case correspond to one of these cases however bot does not detect, so can have lower score.\n",
    "    \n",
    "    Based on the Conversation the output need to be value from 1 to 10.\n",
    "    \"\"\"\n",
    "    \n",
    "    def __init__(self,\n",
    "                 model: str = \"gpt-4o-mini\",\n",
    "                 max_tokens: int = 5,\n",
    "                 temperature: float = 0.0\n",
    "                 ) -> None:\n",
    "        self.model = model\n",
    "        self.max_tokens = max_tokens\n",
    "        self.temperature = temperature\n",
    "        self.client = openai.OpenAI()\n",
    "        \n",
    "    def get_score(self, conversation: pd.DataFrame) -> int:\n",
    "        res = self.client.chat.completions.create(\n",
    "            model = self.model,\n",
    "            temperature = self.temperature,\n",
    "            max_tokens = self.max_tokens,\n",
    "            messages=[{\"role\": \"system\", \"content\": self._BOT_BEHAVIOUR_DESCRIPTION}] + [\n",
    "                {\"role\": \"assistant\", \"content\": context} if role == 1 else {\"role\": \"user\", \"content\": context} for role, context in zip(conversation.source, conversation.message)\n",
    "            ] + [{\"role\": \"system\", \"content\": \"Please do Evaluation by returning only one integer.\"}]\n",
    "        )\n",
    "        try:\n",
    "            return int(res.choices[0].message.content)\n",
    "        except Exception:\n",
    "            return -1\n",
    "    "
   ],
   "id": "76c68178e1771f39",
   "outputs": [],
   "execution_count": 6
  },
  {
   "metadata": {},
   "cell_type": "markdown",
   "source": "## Evaluation",
   "id": "6c8454e8df43aab0"
  },
  {
   "metadata": {
    "ExecuteTime": {
     "end_time": "2024-07-25T06:49:44.729386Z",
     "start_time": "2024-07-25T06:49:44.667796Z"
    }
   },
   "cell_type": "code",
   "source": "df = pd.read_excel('dataset1 (1).xlsx')",
   "id": "d9d1aeeb96b0cfe3",
   "outputs": [],
   "execution_count": 7
  },
  {
   "metadata": {
    "ExecuteTime": {
     "end_time": "2024-07-25T06:52:50.537370Z",
     "start_time": "2024-07-25T06:52:22.235285Z"
    }
   },
   "cell_type": "code",
   "source": [
    "evart = EvaluationArtifact()\n",
    "data = {\n",
    "    'lead_id': [],\n",
    "    'score': []\n",
    "}\n",
    "for lead_id, group in df.groupby('lead_id'):\n",
    "    score = evart.get_score(group)\n",
    "    data['lead_id'].append(lead_id)\n",
    "    data['score'].append(score)\n",
    "\n",
    "result_df = pd.DataFrame(data)\n",
    "result_df.to_csv('results.csv', index=False, header=['lead_id', 'score'])"
   ],
   "id": "e28e94f983463a74",
   "outputs": [],
   "execution_count": 10
  }
 ],
 "metadata": {
  "kernelspec": {
   "display_name": "Python 3",
   "language": "python",
   "name": "python3"
  },
  "language_info": {
   "codemirror_mode": {
    "name": "ipython",
    "version": 2
   },
   "file_extension": ".py",
   "mimetype": "text/x-python",
   "name": "python",
   "nbconvert_exporter": "python",
   "pygments_lexer": "ipython2",
   "version": "2.7.6"
  }
 },
 "nbformat": 4,
 "nbformat_minor": 5
}
